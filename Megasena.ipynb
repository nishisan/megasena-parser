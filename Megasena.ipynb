{
 "cells": [
  {
   "cell_type": "markdown",
   "id": "c4de71d9-7158-4066-98aa-1bb5faa86574",
   "metadata": {
    "editable": true,
    "slideshow": {
     "slide_type": ""
    },
    "tags": []
   },
   "source": [
    "# Importador de Resultados da Megasena\n",
    "\n",
    "Para fins educativos, eu criei um pequeno notebook que importa os dados dos jogos da megasena a partir do site da caixa (https://loterias.caixa.gov.br/Paginas/Download-Resultados.aspx).<br>\n",
    "Não preciso dizer que o código é apresentado como é sem nenhuma garantia ou reponsabilidade de uso do mesmo.\n"
   ]
  },
  {
   "cell_type": "code",
   "execution_count": 1,
   "id": "79617830-2731-4c05-bf6f-1038367ed4f2",
   "metadata": {},
   "outputs": [],
   "source": [
    "import pandas as pd\n",
    "import urllib.request\n",
    "import ssl\n",
    "import json\n",
    "import itertools\n",
    "import numpy as np\n",
    "from multiprocessing import Process,  current_process\n",
    "from bs4 import BeautifulSoup\n",
    "from threading import Thread\n",
    "from threading import current_thread\n",
    "from collections import ChainMap"
   ]
  },
  {
   "cell_type": "markdown",
   "id": "19c0f480-3612-4756-b81f-c11cd564b480",
   "metadata": {},
   "source": [
    "A Função abaixo serve para remover os espaços e quebras de linhas das celulas do BeautifulSoup.\n",
    "Com certeza deve haver um jeito mais elegante de fazer"
   ]
  },
  {
   "cell_type": "code",
   "execution_count": 2,
   "id": "acaf41ae-0efc-43d9-a0e7-2dcaa8980fb5",
   "metadata": {},
   "outputs": [],
   "source": [
    "#\n",
    "# Remove espaços e quebras de linha da celular do BeautifulSoup\n",
    "#\n",
    "def stripText(a):\n",
    "    if a:\n",
    "        return ''.join(a.text.split())"
   ]
  },
  {
   "cell_type": "code",
   "execution_count": 3,
   "id": "8c90b334-c986-4adb-ba68-21ab7011d6ef",
   "metadata": {},
   "outputs": [],
   "source": [
    "#\n",
    "# Faz a requisição HTTP para o site da caixa\n",
    "# \n",
    "ctx = ssl.create_default_context()\n",
    "ctx.check_hostname = False\n",
    "ctx.verify_mode    = ssl.CERT_NONE\n",
    "#\n",
    "# URL Abaixo é a que rendeiza a tabela apresentada no link: https://loterias.caixa.gov.br/Paginas/Download-Resultados.aspx\n",
    "#\n",
    "url = 'https://servicebus2.caixa.gov.br/portaldeloterias/api/resultados?modalidade=Mega-Sena'\n",
    "req = urllib.request.Request(url=url)\n",
    "f   = urllib.request.urlopen(req,context=ctx)\n",
    "js  = f.read().decode('utf-8')\n",
    "js  = json.loads(js)\n"
   ]
  },
  {
   "cell_type": "code",
   "execution_count": 4,
   "id": "ccb466fc-ddde-4fe5-b8a3-9ed57a08969b",
   "metadata": {},
   "outputs": [],
   "source": [
    "#\n",
    "# Aqui a gente pega o HTML que veio no JSON da caixa e intepreta ele como HTML :)\n",
    "#\n",
    "soup = BeautifulSoup(js['html'])\n"
   ]
  },
  {
   "cell_type": "markdown",
   "id": "02b805ae-43e2-404c-bd98-fe1f34fb1154",
   "metadata": {},
   "source": [
    "### Sobre a estrutura de dados\n",
    "A estrutura de dados que é retornada pela tabela é um tanto quanto quanto confusa, com tabelas dentro de tabelas, então o código abaixo lida com essa complexidade para tentar extrair de forma simples as colunas que são renderizadas no browser.<br>\n",
    "No final desta célula , teremos uma variável 'head', com a lista dos campos e uma variável data, com as linhas e os valores dos campos."
   ]
  },
  {
   "cell_type": "code",
   "execution_count": 5,
   "id": "bf1aef26-59de-4a15-9539-c9912508ab73",
   "metadata": {},
   "outputs": [],
   "source": [
    "#\n",
    "# Extrai os resultados da Megasena do Site da Caixa :)\n",
    "#\n",
    "table  = soup.find('table')\n",
    "#\n",
    "# head vai conter a lista de colunas com nomes :)\n",
    "#\n",
    "head   = table.find_all('thead',recursive=False)\n",
    "head   = head[0].findChildren('tr',recursive=False)\n",
    "head   = head[0].findChildren('th',recursive=False)\n",
    "head   = list(map(stripText,head))\n",
    "bodies = table.find_all('tbody',recursive=False)\n",
    "#\n",
    "# data, é uma lista de de listas com todas as colunas\n",
    "#\n",
    "data   = []\n",
    "for body in bodies:\n",
    "    a     = body.find('tr',recursive=False)\n",
    "    cells = a.findChildren('td',recursive=False)\n",
    "    row_data  = []\n",
    "    for cell in cells:\n",
    "        text = cell.text\n",
    "        text = ''.join(text.split())\n",
    "        row_data.append(text)\n",
    "    data.append(row_data)\n",
    "    "
   ]
  },
  {
   "cell_type": "markdown",
   "id": "6b4064ea-27d4-4e5c-851b-0a23320105c8",
   "metadata": {},
   "source": [
    "### Resultado\n",
    "Abaixo você pode ver a lista de resultados dos jogos imprimida na ordem, note que eu não fiz nenhum tratamento com relação ao tipo de dado, mas eu acho que serve como uma ponto de partida para seus estudos.\n",
    "Ah sim!, eu só imprimi as colunas dos resultados, mas poderia ser impresso tudo."
   ]
  },
  {
   "cell_type": "code",
   "execution_count": 6,
   "id": "1bc07bbf-c1c9-4ba6-a2b7-860a554664aa",
   "metadata": {
    "scrolled": true
   },
   "outputs": [
    {
     "name": "stdout",
     "output_type": "stream",
     "text": [
      "Number:[010] Repeated: [302 Times]\n",
      "Number:[053] Repeated: [301 Times]\n",
      "Number:[005] Repeated: [288 Times]\n",
      "Number:[037] Repeated: [283 Times]\n",
      "Number:[033] Repeated: [281 Times]\n",
      "Number:[023] Repeated: [279 Times]\n",
      "Number:[034] Repeated: [279 Times]\n",
      "Number:[004] Repeated: [277 Times]\n",
      "Number:[030] Repeated: [277 Times]\n",
      "Number:[041] Repeated: [276 Times]\n",
      "Number:[042] Repeated: [276 Times]\n",
      "Number:[038] Repeated: [276 Times]\n",
      "Number:[044] Repeated: [276 Times]\n",
      "Number:[032] Repeated: [274 Times]\n",
      "Number:[035] Repeated: [274 Times]\n",
      "Number:[028] Repeated: [274 Times]\n",
      "Number:[017] Repeated: [273 Times]\n",
      "Number:[043] Repeated: [271 Times]\n",
      "Number:[029] Repeated: [269 Times]\n",
      "Number:[027] Repeated: [269 Times]\n",
      "Number:[056] Repeated: [269 Times]\n",
      "Number:[054] Repeated: [269 Times]\n",
      "Number:[049] Repeated: [268 Times]\n",
      "Number:[036] Repeated: [268 Times]\n",
      "Number:[016] Repeated: [268 Times]\n",
      "Number:[051] Repeated: [268 Times]\n",
      "Number:[011] Repeated: [267 Times]\n",
      "Number:[013] Repeated: [264 Times]\n",
      "Number:[002] Repeated: [263 Times]\n",
      "Number:[008] Repeated: [263 Times]\n",
      "Number:[024] Repeated: [263 Times]\n",
      "Number:[052] Repeated: [261 Times]\n",
      "Number:[046] Repeated: [259 Times]\n",
      "Number:[006] Repeated: [258 Times]\n",
      "Number:[018] Repeated: [254 Times]\n",
      "Number:[025] Repeated: [253 Times]\n",
      "Number:[058] Repeated: [253 Times]\n",
      "Number:[012] Repeated: [253 Times]\n",
      "Number:[001] Repeated: [252 Times]\n",
      "Number:[020] Repeated: [252 Times]\n",
      "Number:[050] Repeated: [252 Times]\n",
      "Number:[045] Repeated: [252 Times]\n",
      "Number:[014] Repeated: [250 Times]\n",
      "Number:[039] Repeated: [249 Times]\n",
      "Number:[059] Repeated: [249 Times]\n",
      "Number:[060] Repeated: [248 Times]\n",
      "Number:[047] Repeated: [247 Times]\n",
      "Number:[019] Repeated: [247 Times]\n",
      "Number:[057] Repeated: [246 Times]\n",
      "Number:[007] Repeated: [244 Times]\n",
      "Number:[040] Repeated: [244 Times]\n",
      "Number:[003] Repeated: [244 Times]\n",
      "Number:[009] Repeated: [243 Times]\n",
      "Number:[031] Repeated: [242 Times]\n",
      "Number:[048] Repeated: [240 Times]\n",
      "Number:[022] Repeated: [234 Times]\n",
      "Number:[015] Repeated: [228 Times]\n",
      "Number:[055] Repeated: [222 Times]\n",
      "Number:[021] Repeated: [220 Times]\n",
      "Number:[026] Repeated: [217 Times]\n"
     ]
    }
   ],
   "source": [
    "#\n",
    "# Imprimi todos os resultados por sorteio\n",
    "#\n",
    "countDict = {}\n",
    "for result in data:\n",
    "    numbers = result[2:8]\n",
    "    for dezena in numbers:\n",
    "        if not dezena in countDict:\n",
    "            countDict[dezena]  = 1\n",
    "        else:\n",
    "            countDict[dezena] += 1\n",
    "          \n",
    "    #\n",
    "    # Imprimi apenas os resultados dos jogos.\n",
    "    #\n",
    "    # print(result[0],result[2:8])\n",
    "    #\n",
    "    # Imprimi todos os dados da tabela\n",
    "    #\n",
    "    # print(result[0],result)\n",
    "\n",
    "sortedDict = sorted(countDict.items(), key=lambda x:x[1],reverse=True)\n",
    "for x in sortedDict:\n",
    "    print('Number:[' + x[0] + '] Repeated: ['+str(x[1])+' Times]')\n",
    "    "
   ]
  },
  {
   "cell_type": "code",
   "execution_count": 7,
   "id": "ceab0c3d-0ba1-4cf0-8e22-2860a9b5802c",
   "metadata": {},
   "outputs": [
    {
     "name": "stdout",
     "output_type": "stream",
     "text": [
      "1770\n",
      "34220\n",
      "487635\n",
      "5461512\n",
      "50063860\n"
     ]
    }
   ],
   "source": [
    "#\n",
    "# Agora vamos criar algumas combinações\n",
    "#\n",
    "duplas     = list(itertools.combinations(countDict.keys(), 2))\n",
    "trinas     = list(itertools.combinations(countDict.keys(), 3))\n",
    "quadruplas = list(itertools.combinations(countDict.keys(), 4))\n",
    "quintuplas = list(itertools.combinations(countDict.keys(), 5))\n",
    "sextuplas  = list(itertools.combinations(countDict.keys(), 6))\n",
    "\n",
    "print(len(duplas))\n",
    "print(len(trinas))\n",
    "print(len(quadruplas))\n",
    "print(len(quintuplas))\n",
    "print(len(sextuplas))\n"
   ]
  },
  {
   "cell_type": "code",
   "execution_count": 26,
   "id": "823c511f-159e-4ea1-a08e-086a83a9574d",
   "metadata": {},
   "outputs": [],
   "source": [
    "#\n",
    "# Vamos testar por Ocorrencia qual grupo apresentou mais resultados\n",
    "#\n",
    "combinationCalc = {}\n",
    "def saveResult(m,name):\n",
    "    print(\"Saving %d Records In:[%s]\" %(len(m),name))\n",
    "    with open(\"results/result-\"+name+\".json\", \"w\") as outfile:\n",
    "        json.dump(m, outfile)\n",
    "\n",
    "def checkMaches(combinations):\n",
    "    m      = {}\n",
    "    index  = 0\n",
    "    print(\"%s - Starting Checking :%d Records \" %(current_process().name,len(combinations)))\n",
    "    for d in combinations:\n",
    "        index +=1\n",
    "        if index % 1000 == 0:\n",
    "            perctDone = index / len(combinations)\n",
    "            perctDone = perctDone * 100\n",
    "            print(\"%s - Current:[%d]: %s de %d(%s) Found: [%d] Matches\" % (current_process().name,index,'Processed',len(combinations),format(perctDone, \".2f\"),len(m)))\n",
    "        for sorteio in data.copy():         \n",
    "            result = np.in1d(d, sorteio[2:8]).all()\n",
    "            # result = False\n",
    "            if (result):\n",
    "                key = '-'.join(d)\n",
    "                #\n",
    "                # List is matched\n",
    "                #\n",
    "                # print('Matche:' + str(d))\n",
    "                # print(sorteio[2:8],sorteio[0])\n",
    "                if key not in m:\n",
    "                    m[key] = 1\n",
    "                else:\n",
    "                    m[key] += 1\n",
    "    saveResult(m,current_process().name)\n",
    "    print(\"%s - Done Checking :%d Records Found Total:[%d] matches\" %(current_process().name,len(combinations),len(m)))\n"
   ]
  },
  {
   "cell_type": "code",
   "execution_count": null,
   "id": "37b5d936-8599-484f-b6a5-310a0c6612b2",
   "metadata": {},
   "outputs": [
    {
     "name": "stdout",
     "output_type": "stream",
     "text": [
      "Thread-1 - Starting Checking :81273 Records \n",
      "Thread-2 - Starting Checking :81273 Records Thread-3 - Starting Checking :81273 Records Thread-4 - Starting Checking :81272 Records \n",
      "\n",
      "Thread-5 - Starting Checking :81272 Records \n",
      "\n",
      "Thread-6 - Starting Checking :81272 Records \n",
      "Thread-5 - Current:[1000]: Processed de 81272(1.23) Found: [68] Matches\n",
      "Thread-4 - Current:[1000]: Processed de 81272(1.23) Found: [67] Matches\n",
      "Thread-3 - Current:[1000]: Processed de 81273(1.23) Found: [64] Matches\n",
      "Thread-1 - Current:[1000]: Processed de 81273(1.23) Found: [90] Matches\n"
     ]
    }
   ],
   "source": [
    "#\n",
    "# Vamos quebrar as combinações em chunks\n",
    "#\n",
    "\n",
    "workload = np.array_split(quadruplas, 6)\n",
    "threads  = []\n",
    "threadId = 0\n",
    "for w in workload:\n",
    "    threadId+=1\n",
    "    t = Process(target=checkMaches,args=(w,),name='Thread-'+str(threadId))\n",
    "    threads.append(t)\n",
    "\n",
    "\n",
    "for t in threads:\n",
    "    t.start()\n",
    "\n",
    "for t in threads:\n",
    "    t.join()"
   ]
  },
  {
   "cell_type": "code",
   "execution_count": 19,
   "id": "6e176a98-3a2d-478f-b6ed-0dee4dd4b8a3",
   "metadata": {},
   "outputs": [
    {
     "data": {
      "text/plain": [
       "{}"
      ]
     },
     "execution_count": 19,
     "metadata": {},
     "output_type": "execute_result"
    }
   ],
   "source": [
    "\n",
    "combinationCalc"
   ]
  },
  {
   "cell_type": "code",
   "execution_count": 16,
   "id": "51b3a392-938d-4d88-af14-e5f325c3e870",
   "metadata": {},
   "outputs": [
    {
     "data": {
      "text/plain": [
       "{}"
      ]
     },
     "execution_count": 16,
     "metadata": {},
     "output_type": "execute_result"
    }
   ],
   "source": [
    "combinationCalc"
   ]
  }
 ],
 "metadata": {
  "kernelspec": {
   "display_name": "Python 3 (ipykernel)",
   "language": "python",
   "name": "python3"
  },
  "language_info": {
   "codemirror_mode": {
    "name": "ipython",
    "version": 3
   },
   "file_extension": ".py",
   "mimetype": "text/x-python",
   "name": "python",
   "nbconvert_exporter": "python",
   "pygments_lexer": "ipython3",
   "version": "3.10.6"
  }
 },
 "nbformat": 4,
 "nbformat_minor": 5
}
