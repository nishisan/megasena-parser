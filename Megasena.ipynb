{
 "cells": [
  {
   "cell_type": "markdown",
   "id": "c4de71d9-7158-4066-98aa-1bb5faa86574",
   "metadata": {
    "editable": true,
    "slideshow": {
     "slide_type": ""
    },
    "tags": []
   },
   "source": [
    "# Importador de Resultados da Megasena\n",
    "\n",
    "Para fins educativos, eu criei um pequeno notebook que importa os dados dos jogos da megasena a partir do site da caixa (https://loterias.caixa.gov.br/Paginas/Download-Resultados.aspx).<br>\n",
    "Não preciso dizer que o código é apresentado como é sem nenhuma garantia ou reponsabilidade de uso do mesmo.\n"
   ]
  },
  {
   "cell_type": "code",
   "execution_count": null,
   "id": "79617830-2731-4c05-bf6f-1038367ed4f2",
   "metadata": {},
   "outputs": [],
   "source": [
    "import pandas as pd\n",
    "import urllib.request\n",
    "import ssl\n",
    "import json\n",
    "from bs4 import BeautifulSoup"
   ]
  },
  {
   "cell_type": "markdown",
   "id": "19c0f480-3612-4756-b81f-c11cd564b480",
   "metadata": {},
   "source": [
    "A Função abaixo serve para remover os espaços e quebras de linhas das celulas do BeautifulSoup.\n",
    "Com certeza deve haver um jeito mais elegante de fazer"
   ]
  },
  {
   "cell_type": "code",
   "execution_count": null,
   "id": "acaf41ae-0efc-43d9-a0e7-2dcaa8980fb5",
   "metadata": {},
   "outputs": [],
   "source": [
    "#\n",
    "# Remove espaços e quebras de linha da celular do BeautifulSoup\n",
    "#\n",
    "def stripText(a):\n",
    "    if a:\n",
    "        return ''.join(a.text.split())"
   ]
  },
  {
   "cell_type": "code",
   "execution_count": null,
   "id": "8c90b334-c986-4adb-ba68-21ab7011d6ef",
   "metadata": {},
   "outputs": [],
   "source": [
    "#\n",
    "# Faz a requisição HTTP para o site da caixa\n",
    "# \n",
    "ctx = ssl.create_default_context()\n",
    "ctx.check_hostname = False\n",
    "ctx.verify_mode    = ssl.CERT_NONE\n",
    "#\n",
    "# URL Abaixo é a que rendeiza a tabela apresentada no link: https://loterias.caixa.gov.br/Paginas/Download-Resultados.aspx\n",
    "#\n",
    "url = 'https://servicebus2.caixa.gov.br/portaldeloterias/api/resultados?modalidade=Mega-Sena'\n",
    "req = urllib.request.Request(url=url)\n",
    "f   = urllib.request.urlopen(req,context=ctx)\n",
    "js  = f.read().decode('utf-8')\n",
    "js  = json.loads(js)\n"
   ]
  },
  {
   "cell_type": "code",
   "execution_count": null,
   "id": "ccb466fc-ddde-4fe5-b8a3-9ed57a08969b",
   "metadata": {},
   "outputs": [],
   "source": [
    "#\n",
    "# Aqui a gente pega o HTML que veio no JSON da caixa e intepreta ele como HTML :)\n",
    "#\n",
    "soup = BeautifulSoup(js['html'])\n"
   ]
  },
  {
   "cell_type": "markdown",
   "id": "02b805ae-43e2-404c-bd98-fe1f34fb1154",
   "metadata": {},
   "source": [
    "### Sobre a estrutura de dados\n",
    "A estrutura de dados que é retornada pela tabela é um tanto quanto quanto confusa, com tabelas dentro de tabelas, então o código abaixo lida com essa complexidade para tentar extrair de forma simples as colunas que são renderizadas no browser.<br>\n",
    "No final desta célula , teremos uma variável 'head', com a lista dos campos e uma variável data, com as linhas e os valores dos campos."
   ]
  },
  {
   "cell_type": "code",
   "execution_count": null,
   "id": "bf1aef26-59de-4a15-9539-c9912508ab73",
   "metadata": {},
   "outputs": [],
   "source": [
    "#\n",
    "# Extrai os resultados da Megasena do Site da Caixa :)\n",
    "#\n",
    "table  = soup.find('table')\n",
    "#\n",
    "# head vai conter a lista de colunas com nomes :)\n",
    "#\n",
    "head   = table.find_all('thead',recursive=False)\n",
    "head   = head[0].findChildren('tr',recursive=False)\n",
    "head   = head[0].findChildren('th',recursive=False)\n",
    "head   = list(map(stripText,head))\n",
    "bodies = table.find_all('tbody',recursive=False)\n",
    "#\n",
    "# data, é uma lista de de listas com todas as colunas\n",
    "#\n",
    "data   = []\n",
    "for body in bodies:\n",
    "    a     = body.find('tr',recursive=False)\n",
    "    cells = a.findChildren('td',recursive=False)\n",
    "    row_data  = []\n",
    "    for cell in cells:\n",
    "        text = cell.text\n",
    "        text = ''.join(text.split())\n",
    "        row_data.append(text)\n",
    "    data.append(row_data)\n",
    "    "
   ]
  },
  {
   "cell_type": "markdown",
   "id": "6b4064ea-27d4-4e5c-851b-0a23320105c8",
   "metadata": {},
   "source": [
    "### Resultado\n",
    "Abaixo você pode ver a lista de resultados dos jogos imprimida na ordem, note que eu não fiz nenhum tratamento com relação ao tipo de dado, mas eu acho que serve como uma ponto de partida para seus estudos.\n",
    "Ah sim!, eu só imprimi as colunas dos resultados, mas poderia ser impresso tudo."
   ]
  },
  {
   "cell_type": "code",
   "execution_count": null,
   "id": "1bc07bbf-c1c9-4ba6-a2b7-860a554664aa",
   "metadata": {
    "scrolled": true
   },
   "outputs": [],
   "source": [
    "#\n",
    "# Imprimi todos os resultados por sorteio\n",
    "#\n",
    "for result in data:\n",
    " \n",
    "    #\n",
    "    # Imprimi apenas os resultados dos jogos.\n",
    "    #\n",
    "    print(result[0],result[2:8])\n",
    "    #\n",
    "    # Imprimi todos os dados da tabela\n",
    "    #\n",
    "    # print(result[0],result)"
   ]
  }
 ],
 "metadata": {
  "kernelspec": {
   "display_name": "Python 3 (ipykernel)",
   "language": "python",
   "name": "python3"
  },
  "language_info": {
   "codemirror_mode": {
    "name": "ipython",
    "version": 3
   },
   "file_extension": ".py",
   "mimetype": "text/x-python",
   "name": "python",
   "nbconvert_exporter": "python",
   "pygments_lexer": "ipython3",
   "version": "3.10.6"
  }
 },
 "nbformat": 4,
 "nbformat_minor": 5
}
